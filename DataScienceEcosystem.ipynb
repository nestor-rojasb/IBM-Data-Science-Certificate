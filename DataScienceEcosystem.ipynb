{
 "cells": [
  {
   "cell_type": "markdown",
   "id": "ecf46212-dd1d-4509-a922-16e4f0c1e35b",
   "metadata": {},
   "source": [
    "# Data Science Tools and Ecosystem"
   ]
  },
  {
   "cell_type": "markdown",
   "id": "b46f343c-644e-4885-9906-19eeb4c62a17",
   "metadata": {},
   "source": [
    "The purpose of this notebook is to complete the final assignment for the course “Create and Share Your Jupyter Notebook.”"
   ]
  },
  {
   "cell_type": "markdown",
   "id": "8b1fa805-7f7d-47b3-817a-50fd45b10a0a",
   "metadata": {},
   "source": [
    "Some of the popular languages used by data scientists are as follows:\n",
    "1. R\n",
    "2. Python\n",
    "3. Java\n",
    "4. JavaScript\n",
    "5. HTML\n",
    "6. SQL\n",
    "7. NoSQL\n",
    "8. C#\n",
    "9. Julia\n",
    "10. Scala\n",
    "\n",
    "Among many others."
   ]
  },
  {
   "cell_type": "markdown",
   "id": "ed0ef71c-9d3f-4a52-a4d3-79f3bfe2643d",
   "metadata": {},
   "source": [
    "We can also mention some of the libraries commonly used by data scientists, such as:\n",
    "1. NumPy\n",
    "2. Pandas\n",
    "3. Matplotlib\n",
    "4. Seaborn\n",
    "5. Plotly\n",
    "6. Scikit-Learn\n",
    "\n",
    "Among many others."
   ]
  },
  {
   "cell_type": "markdown",
   "id": "37423285-6c3a-4767-beff-61e2046c7f34",
   "metadata": {},
   "source": [
    "## Data Science Tools\r\n",
    "\r\n",
    "| Data Science Tools |\r\n",
    "|---------------------|\r\n",
    "| Python              |\r\n",
    "| R                   |\r\n",
    "| SQL                 |"
   ]
  },
  {
   "cell_type": "markdown",
   "id": "8b1e69eb-497a-4ac3-8957-38f12c3dcf09",
   "metadata": {},
   "source": [
    "### Below are a few examples of evaluating arithmetic expressions in Python"
   ]
  },
  {
   "cell_type": "code",
   "execution_count": 2,
   "id": "f0c27a73-5827-4245-adcc-828d3745fe42",
   "metadata": {},
   "outputs": [
    {
     "data": {
      "text/plain": [
       "17"
      ]
     },
     "execution_count": 2,
     "metadata": {},
     "output_type": "execute_result"
    }
   ],
   "source": [
    "# This is a simple arithmetic expression for multiplying and then adding integers.\n",
    "(3*4)+5\n"
   ]
  },
  {
   "cell_type": "code",
   "execution_count": 3,
   "id": "29169284-0f94-40d8-a375-864eb1708ed9",
   "metadata": {},
   "outputs": [
    {
     "data": {
      "text/plain": [
       "3.3333333333333335"
      ]
     },
     "execution_count": 3,
     "metadata": {},
     "output_type": "execute_result"
    }
   ],
   "source": [
    "# # This will convert 200 minutes to hours by dividing by 60\n",
    "200 / 60"
   ]
  },
  {
   "cell_type": "markdown",
   "id": "5fd50a5e-d4a8-492e-837d-b418b44b39b7",
   "metadata": {},
   "source": [
    "## Objectives:\r\n",
    "\r\n",
    "Below is a list of key data science objectives covered in this notebook:\r\n",
    "\r\n",
    "- List popular languages for Data Sci\n",
    "- List of Data Science Tools\n",
    "- Few examples of arithmetic expressions in Python\n",
    "- List of libraries commonly used by data scientistsence"
   ]
  },
  {
   "cell_type": "markdown",
   "id": "041c6cbf-9db2-4a00-b5c8-9a993d0ef2f5",
   "metadata": {},
   "source": [
    "## Author\n",
    "Néstor Rojas Bravome"
   ]
  },
  {
   "cell_type": "code",
   "execution_count": null,
   "id": "0896b643-70ec-431a-99d3-8af5a12b51b2",
   "metadata": {},
   "outputs": [],
   "source": []
  }
 ],
 "metadata": {
  "kernelspec": {
   "display_name": "anaconda-panel-2023.05-py310",
   "language": "python",
   "name": "conda-env-anaconda-panel-2023.05-py310-py"
  },
  "language_info": {
   "codemirror_mode": {
    "name": "ipython",
    "version": 3
   },
   "file_extension": ".py",
   "mimetype": "text/x-python",
   "name": "python",
   "nbconvert_exporter": "python",
   "pygments_lexer": "ipython3",
   "version": "3.11.5"
  }
 },
 "nbformat": 4,
 "nbformat_minor": 5
}
